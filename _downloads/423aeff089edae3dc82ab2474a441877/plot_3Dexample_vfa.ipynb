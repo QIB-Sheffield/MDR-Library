{
  "cells": [
    {
      "cell_type": "markdown",
      "metadata": {},
      "source": [
        "\n# 3D Variable Flip Angle (Linear)\n\nThis example illustrates motion correction of a 3D time series with \nvariable flip angles (VFA). The motion correction is performed with 3D \ncoregistration and using a linear signal model fit.\n"
      ]
    },
    {
      "cell_type": "markdown",
      "metadata": {},
      "source": [
        "## Import packages and load data\n\n"
      ]
    },
    {
      "cell_type": "code",
      "execution_count": null,
      "metadata": {
        "collapsed": false
      },
      "outputs": [],
      "source": [
        "import numpy as np\nimport mdreg\n\n# Example data included in mdreg\ndata = mdreg.fetch('VFA')\n\n# Variables used in this examples\narray = data['array']       # 4D signal data (x, y, z, FA)\nFA = data['FA']             # The FA values in degrees\nspacing = data['spacing']   # (x,y,z) voxel size in mm."
      ]
    },
    {
      "cell_type": "markdown",
      "metadata": {},
      "source": [
        "## Signal model\nThe signal data are acquired using a spoiled gradient-echo \nsequence in the steady-state, with different flip angles:\n\n$S(\\phi)=S_0\\sin{\\phi} \\frac{1-e^{-T_R/T_1}}{1-\\cos{\\phi}\\,e^{-T_R/T_1}}$\n\nHere $S(\\phi)$ is the signal at flip angle $\\phi$, \n$S_0$ a scaling factor, $T_R$ the repetition time and \n$T_1$ the longitudinal relaxation time. The equation can be rewritten \nin a linear form: \n\n$Y(\\phi) = AX(\\phi)+B$ \n\nwith the variables defined as:\n\n$X=S(\\phi)/\\sin{\\phi};~~~~Y=S(\\phi)\\cos{\\phi} / \\sin{\\phi}$\n\nand the constants:\n\n$E=e^{-T_R/T_1};~~~~A=\\frac{1}{E};~~~~B=-S_0\\frac{1-E}{E}~$\n\nPlotting $Y(\\phi)$ against $X(\\phi)$ produces a straight line \nwith slope $A$ and intercept $B$. After solving for $A, B$ \nthese constants can then be used reconstruct the signal:\n\n$S(\\phi)=\\frac{B\\sin{\\phi}}{\\cos{\\phi}-A}$\n\n"
      ]
    },
    {
      "cell_type": "markdown",
      "metadata": {},
      "source": [
        "## Perform motion correction\nThe signal model above is included in `mdreg` as the function \n`mdreg.spgr_vfa_lin`, which require the flip angle (FA) values in degrees as \ninput:\n\n"
      ]
    },
    {
      "cell_type": "code",
      "execution_count": null,
      "metadata": {
        "collapsed": false
      },
      "outputs": [],
      "source": [
        "vfa_fit = {\n    'func': mdreg.spgr_vfa_lin,     # VFA signal model\n    'FA': FA,                       # Flip angle in degress  \n}"
      ]
    },
    {
      "cell_type": "markdown",
      "metadata": {},
      "source": [
        "For this example we will use a relatively coarse deformation field with \ngrid spacing 50mm:\n\n"
      ]
    },
    {
      "cell_type": "code",
      "execution_count": null,
      "metadata": {
        "collapsed": false
      },
      "outputs": [],
      "source": [
        "coreg_params = {\n    'spacing': spacing,\n    'FinalGridSpacingInPhysicalUnits': 50.0,\n}"
      ]
    },
    {
      "cell_type": "markdown",
      "metadata": {},
      "source": [
        "We can now perform the motion correction:\n\n"
      ]
    },
    {
      "cell_type": "code",
      "execution_count": null,
      "metadata": {
        "collapsed": false
      },
      "outputs": [],
      "source": [
        "coreg, defo, fit, pars = mdreg.fit(\n    array,                          # Signal data to correct\n    fit_image = vfa_fit,            # Signal model\n    fit_coreg = coreg_params,       # Coregistration model\n    maxit = 5,                      # Maximum number of iteration\n)"
      ]
    },
    {
      "cell_type": "markdown",
      "metadata": {},
      "source": [
        "## Visualize the results\nWe visualise the original data and results of the computation using the \nbuiltin `mdreg.animation` function. Since we want to call this 3 times, \nwe define the settings up front:\n\n"
      ]
    },
    {
      "cell_type": "code",
      "execution_count": null,
      "metadata": {
        "collapsed": false
      },
      "outputs": [],
      "source": [
        "plot_settings = {\n    'interval' : 500,                   # Time between animation frames in ms\n    'vmin' : 0,                         # Minimum value of the colorbar\n    'vmax' : np.percentile(array,99),   # Maximum value of the colorbar\n    'show' : True,                      # Display the animation on screen\n}"
      ]
    },
    {
      "cell_type": "markdown",
      "metadata": {},
      "source": [
        "Now we can plot the data, coregistered images and model fits separately:\n\n"
      ]
    },
    {
      "cell_type": "code",
      "execution_count": null,
      "metadata": {
        "collapsed": false
      },
      "outputs": [],
      "source": [
        "anim = mdreg.animation(array, title='Original data', **plot_settings)"
      ]
    },
    {
      "cell_type": "code",
      "execution_count": null,
      "metadata": {
        "collapsed": false
      },
      "outputs": [],
      "source": [
        "anim = mdreg.animation(coreg, title='Motion corrected', **plot_settings)"
      ]
    },
    {
      "cell_type": "code",
      "execution_count": null,
      "metadata": {
        "collapsed": false
      },
      "outputs": [],
      "source": [
        "anim = mdreg.animation(fit, title='Model fit', **plot_settings)"
      ]
    },
    {
      "cell_type": "markdown",
      "metadata": {},
      "source": [
        "It's also instructive to show the deformation field and check whether \ndeformations are consistent with the effect of breathing motion. Since the \ndeformation field is a vector we show here its norm:\n\n"
      ]
    },
    {
      "cell_type": "code",
      "execution_count": null,
      "metadata": {
        "collapsed": false
      },
      "outputs": [],
      "source": [
        "# Get the norm of the deformation field and adjust the plot settings\ndefo = mdreg.defo_norm(defo)\nplot_settings['vmax'] = np.percentile(defo, 99)\n\n# Display the norm of the deformation field\nanim = mdreg.animation(defo, title='Deformation field', **plot_settings)"
      ]
    }
  ],
  "metadata": {
    "kernelspec": {
      "display_name": "Python 3",
      "language": "python",
      "name": "python3"
    },
    "language_info": {
      "codemirror_mode": {
        "name": "ipython",
        "version": 3
      },
      "file_extension": ".py",
      "mimetype": "text/x-python",
      "name": "python",
      "nbconvert_exporter": "python",
      "pygments_lexer": "ipython3",
      "version": "3.10.10"
    }
  },
  "nbformat": 4,
  "nbformat_minor": 0
}