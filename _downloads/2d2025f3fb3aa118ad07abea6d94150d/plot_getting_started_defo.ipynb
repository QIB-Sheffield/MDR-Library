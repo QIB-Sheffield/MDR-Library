{
  "cells": [
    {
      "cell_type": "markdown",
      "metadata": {},
      "source": [
        "\n# Customizing the coregistration\n\nBy default, ``dcmri`` uses free-form deformation implemented in the package \n`itk.elastix`, which default settings for all configuration parameters. \n\nThis example shows how thse defaults can be modified, and how coregistration \ncan be done by another package, `skimage`.\n"
      ]
    },
    {
      "cell_type": "markdown",
      "metadata": {},
      "source": [
        "## Import packages and data\nImport packages \n\n"
      ]
    },
    {
      "cell_type": "code",
      "execution_count": null,
      "metadata": {
        "collapsed": false
      },
      "outputs": [],
      "source": [
        "import numpy as np\nimport mdreg"
      ]
    },
    {
      "cell_type": "markdown",
      "metadata": {},
      "source": [
        "Load test data\n\n"
      ]
    },
    {
      "cell_type": "code",
      "execution_count": null,
      "metadata": {
        "collapsed": false
      },
      "outputs": [],
      "source": [
        "data = mdreg.fetch('MOLLI')\narray = data['array'][:,:,0,:]\n\n# Throughout this example we use the same signal model:\nmolli = {\n    'func': mdreg.abs_exp_recovery_2p,\n    'TI': np.array(data['TI'])/1000,\n}\n\n# Visualise the data\nmdreg.animation(array, vmin=0, vmax=1e4, show=True)"
      ]
    },
    {
      "cell_type": "markdown",
      "metadata": {},
      "source": [
        "## Customizing the ``elastix`` coregistration\n\nBy default `~mdreg.fit` performs image coregistration using the package \n``elastix`` with bspline deformations, and default settings for all \nparameters. If the result is suboptimal, one way to improve is to customize \nthe coregistration model in elastix.\n\nA critical parameter in elastix bspline deformation is the grid spacing, \nwhich determines the level of detail in the deformation field. The default \ncoregistration uses a grid spacing of 16mm. Let's try what happens if we \nallow finer deformations of 5mm. In order to do that, we need to \nprovide the actual pixel spacing of the data, and modify the default elastix \nparameter:\n\n"
      ]
    },
    {
      "cell_type": "code",
      "execution_count": null,
      "metadata": {
        "collapsed": false
      },
      "outputs": [],
      "source": [
        "deform5mm = {\n\n    # Pixel spacing in the images (in mm)\n    'spacing': data['pixel_spacing'],\n\n    # Provide custom grid spacing (in mm)\n    'FinalGridSpacingInPhysicalUnits': 5.0,\n}"
      ]
    },
    {
      "cell_type": "markdown",
      "metadata": {},
      "source": [
        "We run ``mdreg`` using the 5mm coregistration:\n\n"
      ]
    },
    {
      "cell_type": "code",
      "execution_count": null,
      "metadata": {
        "collapsed": false
      },
      "outputs": [],
      "source": [
        "coreg, defo, fit, pars = mdreg.fit(\n    array, fit_image=molli, fit_coreg=deform5mm)\n\n# Visualise the results\nmdreg.plot_series(array, fit, coreg, vmin=0, vmax=1e4, show=True)"
      ]
    },
    {
      "cell_type": "markdown",
      "metadata": {},
      "source": [
        "Compared to results in other examples using the default grid spacing of 16mm, \nthis shows smaller deformations in the upper pole of the right kidney that \nare not present in the original moving images. The example \nillustrates that the grid spacing should be chosen carefully to reflect the \nscale of the expected deformations. \n\nAny coregistration method available in elastix can be applied in the same \nway by providing a custom set of elastix parameters.\n\n"
      ]
    },
    {
      "cell_type": "markdown",
      "metadata": {},
      "source": [
        "## Coregistration with ``skimage``\n\nWhile ``elastix`` is the default package for coregistration, ``mdreg`` also \nhas an option to use the optical flow method \n:func:`~skimage.optical_flow_tvl1` from the package ``skimage``. \n\nFor this illustration we run ``skimage`` coregistration with default parameters, \nexcept for the attachment which is increased to 30 (default=15) to allow for \nfiner deformations:\n\n"
      ]
    },
    {
      "cell_type": "code",
      "execution_count": null,
      "metadata": {
        "collapsed": false
      },
      "outputs": [],
      "source": [
        "coreg_skimg = {\n\n    # The package needs to be defined if it is not elastix\n    'package': 'skimage',\n\n    # Provide a custom attachment value\n    'attachment': 30,\n}"
      ]
    },
    {
      "cell_type": "markdown",
      "metadata": {},
      "source": [
        "Run ``mdreg`` again, now using the ``skimage`` coregistration instead of \nelastix:\n\n"
      ]
    },
    {
      "cell_type": "code",
      "execution_count": null,
      "metadata": {
        "collapsed": false
      },
      "outputs": [],
      "source": [
        "# Perform model-driven coregistration\ncoreg, defo, fit, pars = mdreg.fit(\n    array, fit_image=molli, fit_coreg=coreg_skimg)\n\n# Visualise the results\nmdreg.plot_series(array, fit, coreg, vmin=0, vmax=1e4, show=True)"
      ]
    },
    {
      "cell_type": "markdown",
      "metadata": {},
      "source": [
        "This result shows good coregistration results, nicely preserving even\nfine grained features such as the small kidney cysts.\n\n"
      ]
    }
  ],
  "metadata": {
    "kernelspec": {
      "display_name": "Python 3",
      "language": "python",
      "name": "python3"
    },
    "language_info": {
      "codemirror_mode": {
        "name": "ipython",
        "version": 3
      },
      "file_extension": ".py",
      "mimetype": "text/x-python",
      "name": "python",
      "nbconvert_exporter": "python",
      "pygments_lexer": "ipython3",
      "version": "3.10.10"
    }
  },
  "nbformat": 4,
  "nbformat_minor": 0
}