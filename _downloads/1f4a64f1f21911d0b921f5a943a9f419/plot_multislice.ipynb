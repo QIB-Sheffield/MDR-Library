{
  "cells": [
    {
      "cell_type": "markdown",
      "metadata": {},
      "source": [
        "\n# Multi-slice 2D registration\n\nThis examples shows how mdreg can be used to perform 2D motion correction \nslice-by-slice on a 4D array. Typical application examples are motion \ncorrection of multi-slice MRI series such as Look-Locker T1 mapping as in \nthis example.\n"
      ]
    },
    {
      "cell_type": "markdown",
      "metadata": {},
      "source": [
        "## Import packages and data\nLet's start by importing the packages needed in this tutorial. \n\n"
      ]
    },
    {
      "cell_type": "code",
      "execution_count": null,
      "metadata": {
        "collapsed": false
      },
      "outputs": [],
      "source": [
        "import numpy as np\nimport mdreg"
      ]
    },
    {
      "cell_type": "markdown",
      "metadata": {},
      "source": [
        "Fetch the multi-slice renal MOLLI dataset:\n\n"
      ]
    },
    {
      "cell_type": "code",
      "execution_count": null,
      "metadata": {
        "collapsed": false
      },
      "outputs": [],
      "source": [
        "data = mdreg.fetch('MOLLI')\n\n# Get the relevant variables\narray = data['array']  \nTI = np.array(data['TI'])/1000\n\n# Use the built-in animation function of mdreg to visualise the motion:\nmdreg.animation(array, vmin=0, vmax=1e4, show=True)"
      ]
    },
    {
      "cell_type": "markdown",
      "metadata": {},
      "source": [
        "## Perform slice-by-slice motion correction\nThe signal model for the MOLLI is the following (we reduce xtol from its \ndefault to speed up fitting in this example):\n\n"
      ]
    },
    {
      "cell_type": "code",
      "execution_count": null,
      "metadata": {
        "collapsed": false
      },
      "outputs": [],
      "source": [
        "molli = {\n    'func': mdreg.abs_exp_recovery_2p, \n    'TI': TI,\n}"
      ]
    },
    {
      "cell_type": "markdown",
      "metadata": {},
      "source": [
        "Slice-by-slice analysis works the same way as single-slice analysis. We \njust have to remember to set the keyword argument force_2d to True so \n`~mdreg.fit` knows that we want 2D motion correction. This overrules the \ndefault behaviour of fitting 3D data with 3D motion correction:\n\n"
      ]
    },
    {
      "cell_type": "code",
      "execution_count": null,
      "metadata": {
        "collapsed": false
      },
      "outputs": [],
      "source": [
        "coreg, defo, fit, pars = mdreg.fit(\n    array, fit_image=molli, force_2d=True, maxit=2,\n)"
      ]
    },
    {
      "cell_type": "markdown",
      "metadata": {},
      "source": [
        "Visualise the results\n\n"
      ]
    },
    {
      "cell_type": "code",
      "execution_count": null,
      "metadata": {
        "collapsed": false
      },
      "outputs": [],
      "source": [
        "anim = mdreg.animation(\n    coreg, title='Motion corrected', \n    interval=500, vmin=0, vmax=1e4, show=True,\n)"
      ]
    },
    {
      "cell_type": "markdown",
      "metadata": {},
      "source": [
        "## Different options per slice\nIt is not uncommon that each slice in a multislice sequence has different \nimaging parameters. For instance in a MOLLI sequence such as illustrated \nin this example, it may well be that each slice has its own set of TI\nvalues. \n\nThe situation can be accomodated in `~mdreg.fit` by assigning a \nlist of dictionaries to the fit_image argument - one for each slice. \nWe illustrate that here assuming that the TI's for each slice are offset by \n100 ms relative to the previous slice. So now the signal model is a list of \ndictionaries:\n\n"
      ]
    },
    {
      "cell_type": "code",
      "execution_count": null,
      "metadata": {
        "collapsed": false
      },
      "outputs": [],
      "source": [
        "molli = [\n    {\n        'func': mdreg.abs_exp_recovery_2p, \n        'TI': TI + 0.1 * z, \n    }\nfor z in range(array.shape[2])]"
      ]
    },
    {
      "cell_type": "markdown",
      "metadata": {},
      "source": [
        "Other than that the call to mdreg is the same as before:\n\n"
      ]
    },
    {
      "cell_type": "code",
      "execution_count": null,
      "metadata": {
        "collapsed": false
      },
      "outputs": [],
      "source": [
        "coreg, defo, fit, pars = mdreg.fit(\n    array, fit_image=molli, force_2d=True, maxit=2,\n)"
      ]
    },
    {
      "cell_type": "markdown",
      "metadata": {},
      "source": [
        "Visualise the results:\n\n"
      ]
    },
    {
      "cell_type": "code",
      "execution_count": null,
      "metadata": {
        "collapsed": false
      },
      "outputs": [],
      "source": [
        "anim = mdreg.animation(\n    coreg, title='Motion corrected (variable TI)', \n    interval=500, vmin=0, vmax=1e4, show=True,\n)"
      ]
    },
    {
      "cell_type": "markdown",
      "metadata": {},
      "source": [
        "## Slice-by-slice with custom models\nIf the signal model fit is defined with a custom model via the \n*fit_pixel* argument, the slice-by-slice operation works the same: \nset the force_2d keyword to True, and supply the *fit_pixel* \nargument as a list of dictionaries in the event that each slice needs \ndifferent parameter settings.\n\n"
      ]
    }
  ],
  "metadata": {
    "kernelspec": {
      "display_name": "Python 3",
      "language": "python",
      "name": "python3"
    },
    "language_info": {
      "codemirror_mode": {
        "name": "ipython",
        "version": 3
      },
      "file_extension": ".py",
      "mimetype": "text/x-python",
      "name": "python",
      "nbconvert_exporter": "python",
      "pygments_lexer": "ipython3",
      "version": "3.10.10"
    }
  },
  "nbformat": 4,
  "nbformat_minor": 0
}