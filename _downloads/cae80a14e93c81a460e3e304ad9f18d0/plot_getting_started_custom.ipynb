{
  "cells": [
    {
      "cell_type": "markdown",
      "metadata": {},
      "source": [
        "\n# Using custom-built models\n\nIn case an appropriate signal model is not available in mdreg's model \nlibrary, the model must be custom writtem. This tutorial will illustrate this \nfor the case of T1-mapping with a MOLLI sequence.\n"
      ]
    },
    {
      "cell_type": "markdown",
      "metadata": {},
      "source": [
        "## Import packages and data\nImport packages \n\n"
      ]
    },
    {
      "cell_type": "code",
      "execution_count": null,
      "metadata": {
        "collapsed": false
      },
      "outputs": [],
      "source": [
        "import numpy as np\nfrom scipy.optimize import curve_fit\nimport mdreg"
      ]
    },
    {
      "cell_type": "markdown",
      "metadata": {},
      "source": [
        "Load test data\n\n"
      ]
    },
    {
      "cell_type": "code",
      "execution_count": null,
      "metadata": {
        "collapsed": false
      },
      "outputs": [],
      "source": [
        "data = mdreg.fetch('MOLLI')\narray = data['array'][:,:,0,:]\n\n# Show the motion:\nmdreg.animation(array, vmin=0, vmax=1e4, show=True)"
      ]
    },
    {
      "cell_type": "markdown",
      "metadata": {},
      "source": [
        "## Building a custom model\n\nThe appropriate model for a single pixel signal has two free parameters \nS0 and T1, apart from the inversion time TI, which is a sequence parameter:\n\n"
      ]
    },
    {
      "cell_type": "code",
      "execution_count": null,
      "metadata": {
        "collapsed": false
      },
      "outputs": [],
      "source": [
        "def my_molli(TI, S0, T1):\n    return np.abs(S0 * (1 - 2 * np.exp(-TI/T1)))"
      ]
    },
    {
      "cell_type": "markdown",
      "metadata": {},
      "source": [
        "In order to use this as a model fit in mdreg, we need a function that \ntakes the image array as argument, and returns the fit to the model and the \nfitted model parameters:\n\n"
      ]
    },
    {
      "cell_type": "code",
      "execution_count": null,
      "metadata": {
        "collapsed": false
      },
      "outputs": [],
      "source": [
        "def fit_my_molli(array, TI=None):\n\n    # Reshape the image array for convenience\n    shape = array.shape\n    array = array.reshape((-1,shape[-1]))\n\n    # Define output arrays in the new shape\n    nx, nt = array.shape\n    par = np.zeros((nx, 2))\n    fit = np.zeros((nx, nt))\n\n    # Fit the model for each pixel\n    for x in range(nx):\n        try:\n            par[x,:], _ = curve_fit(\n                my_molli, TI, array[x,:], \n                p0 = [np.amax(np.abs(array[x,:])), 1.3], \n                bounds = (0, np.inf),\n            )\n            fit[x,:] = my_molli(TI, par[x,0], par[x,1])\n        except:\n            fit[x,:] = array[x,:]\n\n    # Return results in the original shape\n    return fit.reshape(shape), par.reshape(shape[:-1]+(2,))"
      ]
    },
    {
      "cell_type": "markdown",
      "metadata": {},
      "source": [
        "We can now use this custom model in the same way as built-in models when we \nrun ``mdreg``:\n\n"
      ]
    },
    {
      "cell_type": "code",
      "execution_count": null,
      "metadata": {
        "collapsed": false
      },
      "outputs": [],
      "source": [
        "# Define the fit function and its arguments\nmy_fit = {\n    'func': fit_my_molli,\n    'TI': np.array(data['TI'])/1000,\n}\n\n# Perform model-driven coregistration\ncoreg, defo, fit, pars = mdreg.fit(array, fit_image=my_fit)\n\n# Visualise the results\nmdreg.plot_series(array, fit, coreg, vmin=0, vmax=1e4, show=True)"
      ]
    },
    {
      "cell_type": "markdown",
      "metadata": {},
      "source": [
        "In this case, the same result can be obtained using the built-in function  \n`~mdreg.abs_exp_recovery_2p`.\n\n"
      ]
    },
    {
      "cell_type": "markdown",
      "metadata": {},
      "source": [
        "## Pixel-by-pixel fitting\nThe example above represents a common scenario where a 1D \nsignal model is applied for each pixel independently (*pixel-by-pixel \nfitting*). For such models, ``mdreg`` offers a convenient shortcut which \nremoves the need to define a fit function explicitly. \n\nWe illustrate this idea by fitting the *my_molli()* function \ndefined above. In this case we also need a function that derives initial \nvalues from the data and any constant initial values p0 provided by the user:\n\n"
      ]
    },
    {
      "cell_type": "code",
      "execution_count": null,
      "metadata": {
        "collapsed": false
      },
      "outputs": [],
      "source": [
        "def my_molli_init(TI, ydata, p0):\n    S0 = np.amax(np.abs(ydata))\n    return [S0*p0[0], p0[1]]"
      ]
    },
    {
      "cell_type": "markdown",
      "metadata": {},
      "source": [
        "With these definitions in hand, a pixel model fit can be defined as a \ndictionary specifying the model, its parameters (xdata), and any optional \narguments:\n\n"
      ]
    },
    {
      "cell_type": "code",
      "execution_count": null,
      "metadata": {
        "collapsed": false
      },
      "outputs": [],
      "source": [
        "my_pixel_fit = {\n\n    # The custom-built single pixel model\n    'model': my_molli,\n\n    # xdata for the single-pixel model\n    'xdata': np.array(data['TI'])/1000,\n\n    # Optional: custom-built initialization function\n    'func_init': my_molli_init,\n\n    # Optional: initial values for the free parameters\n    'p0': [1,1.3], \n\n    # Optional: bounds for the free model parameters\n    'bounds': (0, np.inf),\n\n    # Optional: any keyword arguments accepted by scipy's curve_fit\n    'xtol': 1e-3,\n}"
      ]
    },
    {
      "cell_type": "markdown",
      "metadata": {},
      "source": [
        "And this can be provided directly to `~mdreg.mdreg.fit` via the keyword argument \n*fit_pixel** - instructing ``mdreg`` to perform pixel-based fitting using \nthe parameters defined in *my_pixel_fit*:\n\n"
      ]
    },
    {
      "cell_type": "code",
      "execution_count": null,
      "metadata": {
        "collapsed": false
      },
      "outputs": [],
      "source": [
        "# Perform model-driven coregistration with a custom pixel model\ncoreg, defo, fit, pars = mdreg.fit(array, fit_pixel=my_pixel_fit)\n\n# Visualise the results\nmdreg.plot_series(array, fit, coreg, vmin=0, vmax=1e4, show=True)"
      ]
    },
    {
      "cell_type": "markdown",
      "metadata": {},
      "source": [
        "As expected, the result is the same as before using the built-in model \n`~mdreg.abs_exp_recovery_2p` and the custom-built function *fit_my_molli*.\n\n"
      ]
    }
  ],
  "metadata": {
    "kernelspec": {
      "display_name": "Python 3",
      "language": "python",
      "name": "python3"
    },
    "language_info": {
      "codemirror_mode": {
        "name": "ipython",
        "version": 3
      },
      "file_extension": ".py",
      "mimetype": "text/x-python",
      "name": "python",
      "nbconvert_exporter": "python",
      "pygments_lexer": "ipython3",
      "version": "3.10.10"
    }
  },
  "nbformat": 4,
  "nbformat_minor": 0
}