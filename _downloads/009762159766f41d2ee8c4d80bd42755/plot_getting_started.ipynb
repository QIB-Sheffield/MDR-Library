{
  "cells": [
    {
      "cell_type": "markdown",
      "metadata": {},
      "source": [
        "\n# Using built-in models\n\nWe illustrate the basic use of ``mdreg`` for the use case of fitting the \nlongitudinal MRI relaxation time T1 from a Look-Locker MRI \nsequence. \n"
      ]
    },
    {
      "cell_type": "markdown",
      "metadata": {},
      "source": [
        "## Import packages and data\nLet's start by importing the packages needed in this tutorial. \n\n"
      ]
    },
    {
      "cell_type": "code",
      "execution_count": null,
      "metadata": {
        "collapsed": false
      },
      "outputs": [],
      "source": [
        "import numpy as np\nimport mdreg"
      ]
    },
    {
      "cell_type": "markdown",
      "metadata": {},
      "source": [
        "``mdreg`` includes a number of test data sets for demonstration purposes. \nLet's fetch the MOLLI example and use ``mdreg``'s built-in plotting tools to \nvisualise the motion:\n\n"
      ]
    },
    {
      "cell_type": "code",
      "execution_count": null,
      "metadata": {
        "collapsed": false
      },
      "outputs": [],
      "source": [
        "# fetch the data\ndata = mdreg.fetch('MOLLI')\n\n# We will consider the slice z=0 of the data array:\narray = data['array'][:,:,0,:]\n\n# Use the built-in animation function of mdreg to visualise the motion:\nmdreg.animation(array, vmin=0, vmax=1e4, show=True)"
      ]
    },
    {
      "cell_type": "markdown",
      "metadata": {},
      "source": [
        "### Using built-in models\n\nThe breathing motion is clearly visible in this slice and we can use \n``mdreg`` to remove it. As a starting point, we could try ``mdreg`` with \ndefault settings.\n\n"
      ]
    },
    {
      "cell_type": "code",
      "execution_count": null,
      "metadata": {
        "collapsed": false
      },
      "outputs": [],
      "source": [
        "# Perform model-driven coregistration with default settings\ncoreg, defo, fit, pars = mdreg.fit(array)\n\n# And visualise the results\nmdreg.plot_series(array, fit, coreg, vmin=0, vmax=1e4, show=True)"
      ]
    },
    {
      "cell_type": "markdown",
      "metadata": {},
      "source": [
        "The default model is a constant, so the model fit (left) does not show any \nchanges. The coregistered image (right) clearly shows the deformations, but \nthey do not have the desired effect of removing the motion. This is not \nunexpected, because a constant model does not provide a good approximation \nto the changes in image contrast. We need a dedicated model for this \nsequence.\n\n"
      ]
    },
    {
      "cell_type": "markdown",
      "metadata": {},
      "source": [
        "## Changing the signal model\nhe appropriate model for a MOLLI sequence is \n`~mdreg.abs_exp_recovery_2p` and is included in ``mdreg``'s model library. \nWe just \nneed to tell ``mdreg`` which fitting function to use (*func*), and \nprovide the keyword arguments required by the model - in this example \nthe inversion times TI in units of sec. We define the signal model up front \nso it can be used again later in this script:\n\n"
      ]
    },
    {
      "cell_type": "code",
      "execution_count": null,
      "metadata": {
        "collapsed": false
      },
      "outputs": [],
      "source": [
        "molli = {\n\n    # The function to fit the data\n    'func': mdreg.abs_exp_recovery_2p,\n\n    # The keyword arguments required by the function\n    'TI': np.array(data['TI'])/1000,\n}"
      ]
    },
    {
      "cell_type": "markdown",
      "metadata": {},
      "source": [
        "Now we can run ``mdreg`` with this model and check the result again:\n\n"
      ]
    },
    {
      "cell_type": "code",
      "execution_count": null,
      "metadata": {
        "collapsed": false
      },
      "outputs": [],
      "source": [
        "# Perform model-driven coregistration\ncoreg, defo, fit, pars = mdreg.fit(array, fit_image=molli)\n\n# # Visualise the results\nmdreg.plot_series(array, fit, coreg, vmin=0, vmax=1e4, show=True)"
      ]
    },
    {
      "cell_type": "markdown",
      "metadata": {},
      "source": [
        "This now shows essentially the desired result. The model fit (left) and the \ndeformed image (right) are now both very similar in image contrast to the \noriginal data (middle), but with motion removed. \n\n"
      ]
    }
  ],
  "metadata": {
    "kernelspec": {
      "display_name": "Python 3",
      "language": "python",
      "name": "python3"
    },
    "language_info": {
      "codemirror_mode": {
        "name": "ipython",
        "version": 3
      },
      "file_extension": ".py",
      "mimetype": "text/x-python",
      "name": "python",
      "nbconvert_exporter": "python",
      "pygments_lexer": "ipython3",
      "version": "3.10.10"
    }
  },
  "nbformat": 4,
  "nbformat_minor": 0
}